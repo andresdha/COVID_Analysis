{
 "cells": [
  {
   "cell_type": "code",
   "execution_count": 1,
   "metadata": {},
   "outputs": [],
   "source": [
    "%matplotlib inline\n",
    "import numpy as np\n",
    "import pandas as pd\n",
    "import matplotlib.pyplot as plt\n",
    "plt.rcParams['text.usetex'] = True\n",
    "from scipy.optimize import curve_fit\n",
    "import seaborn as sns\n",
    "sns.set()"
   ]
  },
  {
   "cell_type": "code",
   "execution_count": 2,
   "metadata": {},
   "outputs": [],
   "source": [
    "plt.rcParams['figure.figsize'] = [15, 10]"
   ]
  },
  {
   "cell_type": "code",
   "execution_count": 3,
   "metadata": {},
   "outputs": [],
   "source": [
    "days_since_first = 45  #first case March 6th"
   ]
  },
  {
   "cell_type": "code",
   "execution_count": 4,
   "metadata": {},
   "outputs": [
    {
     "data": {
      "text/plain": [
       "array([ 0,  1,  2,  3,  4,  5,  6,  7,  8,  9, 10, 11, 12, 13, 14, 15, 16,\n",
       "       17, 18, 19, 20, 21, 22, 23, 24, 25, 26, 27, 28, 29, 30, 31, 32, 33,\n",
       "       34, 35, 36, 37, 38, 39, 40, 41, 42, 43])"
      ]
     },
     "execution_count": 4,
     "metadata": {},
     "output_type": "execute_result"
    }
   ],
   "source": [
    "days = np.array(range(days_since_first))\n",
    "time_since_first = np.array(range(days_since_first-1))\n",
    "time_since_first"
   ]
  },
  {
   "cell_type": "code",
   "execution_count": 5,
   "metadata": {},
   "outputs": [
    {
     "data": {
      "text/plain": [
       "array([ 0,  1,  2,  3,  4,  5,  6,  7,  8,  9, 10, 11, 12, 13, 14, 15, 16,\n",
       "       17, 18, 19, 20, 21, 22, 23, 24, 25, 26, 27, 28, 29, 30, 31, 32, 33,\n",
       "       34, 35, 36, 37, 38, 39, 40, 41, 42, 43, 44])"
      ]
     },
     "execution_count": 5,
     "metadata": {},
     "output_type": "execute_result"
    }
   ],
   "source": [
    "days"
   ]
  },
  {
   "cell_type": "code",
   "execution_count": 6,
   "metadata": {},
   "outputs": [
    {
     "data": {
      "text/plain": [
       "array([ 0,  1,  2,  3,  4,  5,  6,  7,  8,  9, 10, 11, 12, 13, 14])"
      ]
     },
     "execution_count": 6,
     "metadata": {},
     "output_type": "execute_result"
    }
   ],
   "source": [
    "days_short = days[0:-30]\n",
    "days_short"
   ]
  },
  {
   "cell_type": "code",
   "execution_count": 7,
   "metadata": {},
   "outputs": [
    {
     "data": {
      "text/plain": [
       "array([ 4,  0,  4,  4,  9,  1,  3,  1,  8,  6,  9, 19, 20, 24,  4, 17, 24,\n",
       "       19, 24, 30, 32, 32, 19, 16, 17, 28, 21, 20, 19, 19, 13, 16, 19, 37,\n",
       "       19, -1, 38, 17,  6,  8, 16,  7,  6,  5])"
      ]
     },
     "execution_count": 7,
     "metadata": {},
     "output_type": "execute_result"
    }
   ],
   "source": [
    "cases = [1, 5, 5, 9, 13, 22, 23, 26, 27, 35, 41, 50, 69, 89, 113, 117,134, 158, 177,201,231,263,295, 314,330, 347, 375, 396,416,435,454,467,483,502,539,558,557,595,612,618,626,642,649,655,660]\n",
    "new_cases_per_day = np.diff(cases)\n",
    "new_cases_per_day"
   ]
  },
  {
   "cell_type": "code",
   "execution_count": 8,
   "metadata": {},
   "outputs": [
    {
     "data": {
      "text/plain": [
       "[1,\n",
       " 5,\n",
       " 5,\n",
       " 9,\n",
       " 13,\n",
       " 22,\n",
       " 23,\n",
       " 26,\n",
       " 27,\n",
       " 35,\n",
       " 41,\n",
       " 50,\n",
       " 69,\n",
       " 89,\n",
       " 113,\n",
       " 117,\n",
       " 134,\n",
       " 158,\n",
       " 177,\n",
       " 201,\n",
       " 231,\n",
       " 263,\n",
       " 295,\n",
       " 314,\n",
       " 330,\n",
       " 347,\n",
       " 375,\n",
       " 396,\n",
       " 416,\n",
       " 435,\n",
       " 454,\n",
       " 467,\n",
       " 483,\n",
       " 502,\n",
       " 539,\n",
       " 558,\n",
       " 557,\n",
       " 595,\n",
       " 612,\n",
       " 618,\n",
       " 626,\n",
       " 642,\n",
       " 649,\n",
       " 655,\n",
       " 660]"
      ]
     },
     "execution_count": 8,
     "metadata": {},
     "output_type": "execute_result"
    }
   ],
   "source": [
    "cases"
   ]
  },
  {
   "cell_type": "code",
   "execution_count": null,
   "metadata": {},
   "outputs": [],
   "source": [
    "cases_short = cases[0:-27]\n",
    "cases_short"
   ]
  },
  {
   "cell_type": "code",
   "execution_count": null,
   "metadata": {},
   "outputs": [],
   "source": [
    "recovered = np.array([0,0,0,0,0,0,0,0,0,0,0,0,0,0,2,2,2,2,2,2,2,3,3,3,4,4,4,6,11,13,16,18,24,29,30,42,49,56,62,66,67,74,88,97,112])\n",
    "deaths = np.array([0,0,0,0,0,0,0,0,0,0,0,0,1,2,2,2,2,2,2,2,2,2,2,2,2,2,2,2,2,2,2,3,3,3,3,3,3,3,3,4,4,4,4,4,4,5])\n",
    "print(len(recovered),len(deaths))"
   ]
  },
  {
   "cell_type": "code",
   "execution_count": null,
   "metadata": {},
   "outputs": [],
   "source": [
    "active = cases - recovered - deaths\n",
    "active"
   ]
  },
  {
   "cell_type": "code",
   "execution_count": null,
   "metadata": {},
   "outputs": [],
   "source": [
    "pdata = {'Days': days, 'Cases': np.array(cases).astype('float64'), 'Recovered': recovered, 'Deaths': deaths}\n",
    "data = pd.DataFrame(pdata)\n",
    "data.head()"
   ]
  },
  {
   "cell_type": "code",
   "execution_count": null,
   "metadata": {},
   "outputs": [],
   "source": [
    "data.describe()"
   ]
  },
  {
   "cell_type": "code",
   "execution_count": null,
   "metadata": {},
   "outputs": [],
   "source": [
    "plt.plot(days, cases, label='Casos Confirmados', linewidth=3)\n",
    "plt.plot(days, recovered, label='Recuperados', linewidth=3)\n",
    "plt.plot(days, deaths, label='Muertes', linewidth=3)\n",
    "plt.plot(time_since_first, new_cases_per_day, label='Casos Nuevos por Dia', linewidth=3)\n",
    "plt.plot(days, active, label='Casos Activos', linewidth=3)\n",
    "plt.xlabel('Dias', fontsize=25)\n",
    "plt.ylabel('COVID-19 en CR', fontsize=25)\n",
    "plt.legend(loc='best', fontsize=15)\n",
    "plt.show()"
   ]
  },
  {
   "cell_type": "markdown",
   "metadata": {},
   "source": [
    "## Exponentials"
   ]
  },
  {
   "cell_type": "code",
   "execution_count": null,
   "metadata": {},
   "outputs": [],
   "source": [
    "def ExpFit(x, n, a):\n",
    "    f = n*np.exp(a*x)\n",
    "    return f"
   ]
  },
  {
   "cell_type": "code",
   "execution_count": null,
   "metadata": {},
   "outputs": [],
   "source": [
    "def SigFit(x, n, b, c):\n",
    "    f = n*(1/(1+np.exp(-b*(x-c))))\n",
    "    return f"
   ]
  },
  {
   "cell_type": "code",
   "execution_count": null,
   "metadata": {},
   "outputs": [],
   "source": [
    "#PArameters EXP\n",
    "p = [1,1]\n",
    "#Fit\n",
    "c, cov = curve_fit(ExpFit, days_short, cases_short)\n",
    "\n",
    "#Parameters Exp2\n",
    "p1 = [1,1]\n",
    "c1, cov1 = curve_fit(ExpFit, days, cases)"
   ]
  },
  {
   "cell_type": "code",
   "execution_count": null,
   "metadata": {},
   "outputs": [],
   "source": [
    "c"
   ]
  },
  {
   "cell_type": "code",
   "execution_count": null,
   "metadata": {},
   "outputs": [],
   "source": [
    "c1"
   ]
  },
  {
   "cell_type": "code",
   "execution_count": null,
   "metadata": {},
   "outputs": [],
   "source": [
    "N_0, a = c[0], c[1]\n",
    "N_0, a "
   ]
  },
  {
   "cell_type": "code",
   "execution_count": null,
   "metadata": {},
   "outputs": [],
   "source": [
    "n, b1 = c1[0], c1[1]\n",
    "n, b1"
   ]
  },
  {
   "cell_type": "code",
   "execution_count": null,
   "metadata": {},
   "outputs": [],
   "source": [
    "perr = np.sqrt(np.diag(cov))\n",
    "N_0_pm, a_pm = perr[0], perr[1]\n",
    "N_0_pm, a_pm"
   ]
  },
  {
   "cell_type": "code",
   "execution_count": null,
   "metadata": {},
   "outputs": [],
   "source": [
    "perr1 = np.sqrt(np.diag(cov1))\n",
    "n_pm, b1_pm = perr1[0], perr1[1]\n",
    "n_pm, b1_pm"
   ]
  },
  {
   "cell_type": "code",
   "execution_count": null,
   "metadata": {},
   "outputs": [],
   "source": [
    "from uncertainties import unumpy\n"
   ]
  },
  {
   "cell_type": "code",
   "execution_count": null,
   "metadata": {},
   "outputs": [],
   "source": [
    "variables = unumpy.uarray([N_0, a], (N_0_pm.round(1), a_pm.round(2)))\n",
    "variables"
   ]
  },
  {
   "cell_type": "code",
   "execution_count": null,
   "metadata": {},
   "outputs": [],
   "source": [
    "variables1 = unumpy.uarray([n, b1], (n_pm.round(1), b1_pm.round(2)))\n",
    "variables1"
   ]
  },
  {
   "cell_type": "code",
   "execution_count": null,
   "metadata": {},
   "outputs": [],
   "source": [
    "t = np.arange(0,days_since_first, 0.2)\n",
    "t"
   ]
  },
  {
   "cell_type": "code",
   "execution_count": null,
   "metadata": {},
   "outputs": [],
   "source": [
    "predicted = ExpFit(t, N_0, a)"
   ]
  },
  {
   "cell_type": "code",
   "execution_count": null,
   "metadata": {},
   "outputs": [],
   "source": [
    "predicted1 = ExpFit(t, n, b1)"
   ]
  },
  {
   "cell_type": "code",
   "execution_count": null,
   "metadata": {},
   "outputs": [],
   "source": [
    "#next three days:\n",
    "xs = np.array([days_since_first + 1, days_since_first + 2, days_since_first +3])\n",
    "pred_next_three = ExpFit(xs, N_0, a)\n",
    "pred_next_three = variables[0]*unumpy.exp(variables[1]*xs) \n",
    "pred_next_three"
   ]
  },
  {
   "cell_type": "code",
   "execution_count": null,
   "metadata": {},
   "outputs": [],
   "source": [
    "pred1_next_three =ExpFit(t, n, b1)\n",
    "pred1_next_three = variables1[0]*unumpy.exp(variables1[1]*xs) \n",
    "pred1_next_three"
   ]
  },
  {
   "cell_type": "code",
   "execution_count": null,
   "metadata": {},
   "outputs": [],
   "source": [
    "#Sigmoid\n",
    "#pred_sig_next_three = SigFit(xs, n, b1, c1)\n",
    "#pred_sig_next_three"
   ]
  },
  {
   "cell_type": "code",
   "execution_count": null,
   "metadata": {},
   "outputs": [],
   "source": [
    "tau = 1/variables[1]\n",
    "tau"
   ]
  },
  {
   "cell_type": "code",
   "execution_count": null,
   "metadata": {},
   "outputs": [],
   "source": [
    "tau1 = 1/variables1[1]\n",
    "tau1"
   ]
  },
  {
   "cell_type": "code",
   "execution_count": null,
   "metadata": {},
   "outputs": [],
   "source": [
    "plt.plot(days, cases, 'P', label='Datos')\n",
    "#plt.plot(t, predicted, '--', label='Ajuste Exponencial (Al 20 de marzo)')\n",
    "#plt.plot(t, predicted1, '--', label='Ajuste Exponencial (Al 24 de marzo')\n",
    "plt.xlabel('Dias', fontsize=25)\n",
    "plt.ylabel('Casos COVID-19 CR', fontsize=25)\n",
    "plt.legend(loc='best',fontsize=15)\n",
    "plt.show()"
   ]
  },
  {
   "cell_type": "markdown",
   "metadata": {},
   "source": [
    "## ARIMA Model"
   ]
  },
  {
   "cell_type": "code",
   "execution_count": null,
   "metadata": {},
   "outputs": [],
   "source": [
    "from statsmodels.tsa.arima_model import ARIMA\n",
    "from statsmodels.tsa.stattools import adfuller\n",
    "from statsmodels.graphics.tsaplots import plot_acf, plot_pacf"
   ]
  },
  {
   "cell_type": "code",
   "execution_count": null,
   "metadata": {},
   "outputs": [],
   "source": [
    "res = adfuller(data['Cases'])\n",
    "print('ADF Statistic: %f' %res[0])\n",
    "print('p-Value: %f' %res[1])"
   ]
  },
  {
   "cell_type": "code",
   "execution_count": null,
   "metadata": {},
   "outputs": [],
   "source": [
    "fig, axes = plt.subplots(4, 2, sharex=True)\n",
    "#Cases\n",
    "axes[0, 0].plot(data['Cases']); axes[0, 0].set_title('Original Series')\n",
    "plot_acf(data['Cases'], ax=axes[0, 1])\n",
    "\n",
    "#1st Difference\n",
    "diff1 = data['Cases'].diff()\n",
    "axes[1, 0].plot(diff1); axes[1, 0].set_title('1st Order Differencing')\n",
    "plot_acf(diff1.dropna(), ax=axes[1,1])\n",
    "\n",
    "\n",
    "#2nd Difference\n",
    "diff2 = diff1.diff()\n",
    "axes[2, 0].plot(diff2); axes[2, 0].set_title('2nd Order Differencing')\n",
    "plot_acf(diff2.dropna(), ax=axes[2,1])\n",
    "\n",
    "\n",
    "#3rd Difference\n",
    "diff3 = diff2.diff()\n",
    "axes[3, 0].plot(diff3); axes[3, 0].set_title('3rd Order Differencing')\n",
    "plot_acf(diff3.dropna(), ax=axes[3,1])\n",
    "\n",
    "plt.show()\n",
    "\n",
    "\n"
   ]
  },
  {
   "cell_type": "code",
   "execution_count": null,
   "metadata": {},
   "outputs": [],
   "source": [
    "fig, axes = plt.subplots(2, 2, sharex=True)\n",
    "\n",
    "axes[0,0].plot(diff1); axes[0,0].set_title('1st Differencing')\n",
    "plot_pacf(diff1.dropna(), ax=axes[0,1])\n",
    "\n",
    "axes[1,0].plot(diff2); axes[1,0].set_title('2nd Differencing')\n",
    "plot_pacf(diff2.dropna(), ax=axes[1,1])\n",
    "\n",
    "plt.show()\n",
    "\n",
    "\n",
    "# 1 order of lag is enough"
   ]
  },
  {
   "cell_type": "code",
   "execution_count": null,
   "metadata": {},
   "outputs": [],
   "source": [
    "pd.plotting.autocorrelation_plot(data['Cases']) #Basically no significant autocorrelation"
   ]
  },
  {
   "cell_type": "code",
   "execution_count": null,
   "metadata": {},
   "outputs": [],
   "source": [
    "model = ARIMA(data['Cases'], order=(2,2,2))"
   ]
  },
  {
   "cell_type": "code",
   "execution_count": null,
   "metadata": {},
   "outputs": [],
   "source": [
    "model_fit = model.fit()"
   ]
  },
  {
   "cell_type": "code",
   "execution_count": null,
   "metadata": {},
   "outputs": [],
   "source": [
    "model_fit.summary()"
   ]
  },
  {
   "cell_type": "code",
   "execution_count": null,
   "metadata": {},
   "outputs": [],
   "source": [
    "residuals = pd.DataFrame(model_fit.resid)\n",
    "residuals.plot()"
   ]
  },
  {
   "cell_type": "code",
   "execution_count": null,
   "metadata": {},
   "outputs": [],
   "source": [
    "residuals.plot(kind='kde')"
   ]
  },
  {
   "cell_type": "code",
   "execution_count": null,
   "metadata": {},
   "outputs": [],
   "source": [
    "model_fit.plot_predict(dynamic=False)\n",
    "plt.xlabel('Dias', fontsize=25)\n",
    "plt.ylabel('Casos COVID-19 CR', fontsize=25)\n",
    "plt.show()"
   ]
  },
  {
   "cell_type": "code",
   "execution_count": null,
   "metadata": {},
   "outputs": [],
   "source": [
    "forecast = model_fit.forecast(3)"
   ]
  },
  {
   "cell_type": "code",
   "execution_count": null,
   "metadata": {},
   "outputs": [],
   "source": [
    "d1, d2, d3 = forecast[0][0], forecast[0][1], forecast[0][2]\n",
    "d1, d2, d3"
   ]
  },
  {
   "cell_type": "code",
   "execution_count": null,
   "metadata": {},
   "outputs": [],
   "source": [
    "pms = (abs(forecast[2][:,0] - forecast[2][:,1])/2).round(0)\n",
    "pms"
   ]
  },
  {
   "cell_type": "markdown",
   "metadata": {},
   "source": [
    "# Model\n",
    "$ N(t) = N_0e^{at}$  \n",
    "\n",
    "\n",
    "\n",
    "$N(t) = N_0\\left(\\frac{1}{1+ae^{-bx}}\\right)$\n",
    "\n",
    "Con t en días\n",
    "\n",
    "### Al 18 de marzo \n",
    "\n",
    "$N_0 = 5.5 \\pm 0.7$, \n",
    "\n",
    "\n",
    "$a = 0.20 \\pm 0.01$\n",
    "\n",
    "#### Predicciones: \n",
    "\n",
    "$19/3: 81 \\pm 11$, \n",
    "\n",
    "$20/3: 99 \\pm 14$\n",
    "\n",
    "$21/3 :122 \\pm 17$\n",
    "\n",
    "\n",
    "### Al 19 de Marzo \n",
    "\n",
    "$N_0 = 5.0 \\pm 0.7$\n",
    "\n",
    "$a = 0.22 \\pm 0.01  \\Rightarrow \\tau_c = 4.6 \\pm 0.2$\n",
    "\n",
    "#### Predicciones:\n",
    "\n",
    "\n",
    "$20/3: 133  \\pm 27$\n",
    "\n",
    "$21/3: 166 \\pm 35$\n",
    "\n",
    "$222/3 :200 \\pm 28$\n",
    "\n",
    "### Al 20 de Marzo \n",
    "\n",
    "$N_0 = 4.6 \\pm 0.5$\n",
    "\n",
    "$a = 0.23 \\pm 0.01  \\Rightarrow \\tau_c = 4.4 \\pm 0.2$\n",
    "\n",
    "#### Predicciones:\n",
    "\n",
    "\n",
    "$21/3: 174  \\pm 34$,                                                        ARIMA: $135 \\pm 9$\n",
    "\n",
    "$22/3: 218 \\pm 44$,                                                         ARIMA : $155 \\pm 19$\n",
    "\n",
    "$23/3 :274 \\pm 57$,                                                         ARIMA: $173 \\pm 30$\n",
    "\n",
    "### Al 21 de Marzo \n",
    "\n",
    "$N_0 = 4.6 \\pm 0.5$\n",
    "\n",
    "$a = 0.23 \\pm 0.01  \\Rightarrow \\tau_c = 4.4 \\pm 0.2$\n",
    "\n",
    "\n",
    "\n",
    "#### Predicciones:\n",
    "\n",
    "\n",
    "$22/3: 174  \\pm 34$,                                                       ARIMA: $135 \\pm 9$\n",
    "\n",
    "$23/3: 218 \\pm 44$,                                                         ARIMA : $155 \\pm 19$\n",
    "\n",
    "$24/3 :274 \\pm 57$,                                                         ARIMA: $173 \\pm 30$\n",
    "\n",
    "### Al 22 de Marzo \n",
    "\n",
    "$N_0 = 4.6 \\pm 0.5$\n",
    "\n",
    "$a = 0.23 \\pm 0.01  \\Rightarrow \\tau_c = 4.4 \\pm 0.2$\n",
    "\n",
    "$n = 6.7 \\pm 0.9$\n",
    "\n",
    "$b_1 = 0.19 \\pm 0.01$\n",
    "\n",
    "\n",
    "#### Predicciones:\n",
    "\n",
    "###### Exponentials\n",
    "\n",
    "\n",
    "$23/3:$ exp 1$274  \\pm 57$,   exp2  $210 \\pm 47$                                         ARIMA: $144 \\pm 13$\n",
    "\n",
    "$25/3:$  exp 1$344 \\pm 75$,     exp 2 $254 \\pm 59$                                       ARIMA : $160 \\pm 22$\n",
    "\n",
    "$25/3:$ exp1$432 \\pm 98$,       exp 2$308 \\pm 74$                                             ARIMA: $174 \\pm 36$"
   ]
  },
  {
   "cell_type": "markdown",
   "metadata": {},
   "source": [
    "### Al 23 de Marzo \n",
    "\n",
    "$N_0 = 4.6 \\pm 0.5$\n",
    "\n",
    "$a = 0.23 \\pm 0.01  \\Rightarrow \\tau_c = 4.4 \\pm 0.2$\n",
    "\n",
    "$n = 7.4 \\pm 0.9$\n",
    "\n",
    "$b_1 = 0.18 \\pm 0.01$\n",
    "\n",
    "\n",
    "#### Predicciones:\n",
    "\n",
    "###### Exponentials, ARIMA (2,2,0)\n",
    "\n",
    "$24/3:$ exp1 $344  \\pm 75$,   exp2  $238 \\pm 53$                                         ARIMA: $176 \\pm 13$\n",
    "\n",
    "$25/3:$  exp1 $432 \\pm 98$,     exp 2 $286 \\pm 66$                                       ARIMA : $198 \\pm 24$\n",
    "\n",
    "$26/3:$ exp1 $513 \\pm 128$,       exp2 $343 \\pm 83$                                        ARIMA: $221 \\pm 35$\n",
    "\n",
    "### Al 24 de Marzo \n",
    "\n",
    "$N_0 = 4.6 \\pm 0.5$\n",
    "\n",
    "$a = 0.23 \\pm 0.01  \\Rightarrow \\tau_c = 4.4 \\pm 0.2$\n",
    "\n",
    "$n = 8.4 \\pm 0.1$\n",
    "\n",
    "$b_1 = 0.17 \\pm 0.01$\n",
    "\n",
    "\n",
    "#### Predicciones:\n",
    "\n",
    "###### Exponentials, ARIMA (2,2,0)\n",
    "\n",
    "$25/3:$ exp1 $432  \\pm 98$,   exp2  $265 \\pm 61$                                         ARIMA: $199 \\pm 13$\n",
    "\n",
    "$26/3:$  exp1 $543 \\pm 128$,     exp 2 $315 \\pm 76$                                       ARIMA : $222 \\pm 23$\n",
    "\n",
    "$27/3:$ exp1 $682 \\pm 167$,       exp2 $374 \\pm 93$                                        ARIMA: $246 \\pm 34$\n",
    "\n",
    "### Al 25 de Marzo \n",
    "\n",
    "$N_0 = 4.6 \\pm 0.5$\n",
    "\n",
    "$a = 0.23 \\pm 0.01  \\Rightarrow \\tau_c = 4.4 \\pm 0.2$\n",
    "\n",
    "$n = 9.3 \\pm 0.1$\n",
    "\n",
    "$b_1 = 0.16 \\pm 0.01$\n",
    "\n",
    "\n",
    "#### Predicciones:\n",
    "\n",
    "###### Exponentials, ARIMA (2,2,1)\n",
    "\n",
    "$26/3:$ exp1 $543  \\pm 128$,   exp2  $295 \\pm 71$                                         ARIMA: $224 \\pm 10$\n",
    "\n",
    "$27/3:$  exp1 $682 \\pm 167$,     exp 2 $348 \\pm 87$                                       ARIMA : $248 \\pm 15$\n",
    "\n",
    "$28/3:$ exp1 $856 \\pm 218$,       exp2 $312 \\pm 106$                                        ARIMA: $273 \\pm 18$\n",
    "\n",
    "### Al 26 de Marzo \n",
    "\n",
    "$N_0 = 4.6 \\pm 0.5$\n",
    "\n",
    "$a = 0.23 \\pm 0.01  \\Rightarrow \\tau_c = 4.4 \\pm 0.2$\n",
    "\n",
    "$n = 10 \\pm 0.1$\n",
    "\n",
    "$b_1 = 0.16 \\pm 0.01$\n",
    "\n",
    "\n",
    "#### Predicciones:\n",
    "\n",
    "###### Exponentials, ARIMA (2,2,1)\n",
    "\n",
    "EXP 1 is deprecated for predictions!, exp 2 is kept for comparison and reference\n",
    "\n",
    "$26/3: $  exp2  $331 \\pm 81$                                         ARIMA: $258 \\pm 10$\n",
    "\n",
    "$27/3:$     exp 2 $388 \\pm 99$                                       ARIMA : $283 \\pm 15$\n",
    "\n",
    "$28/3 : $      exp2 $455 \\pm 120$                                        ARIMA: $311 \\pm 19$\n",
    "\n",
    "\n",
    "### Al 27 de Marzo \n",
    "\n",
    "$N_0 = 4.6 \\pm 0.5$\n",
    "\n",
    "$a = 0.23 \\pm 0.01  \\Rightarrow \\tau_c = 4.4 \\pm 0.2$\n",
    "\n",
    "$n = 10 \\pm 0.1$\n",
    "\n",
    "$b_1 = 0.16 \\pm 0.01$\n",
    "\n",
    "\n",
    "#### Predicciones:\n",
    "\n",
    "###### Exponentials, ARIMA (2,2,1)\n",
    "\n",
    "EXP 1 is deprecated for predictions!, exp 2 is kept for comparison and reference\n",
    "\n",
    "$28/3: $  exp2  $372 \\pm 93$                                         ARIMA: $292 \\pm 10$\n",
    "\n",
    "$29/3:$     exp 2 $434 \\pm 113$                                       ARIMA : $321 \\pm 16$\n",
    "\n",
    "$30/3 : $      exp2 $506 \\pm 136$                                        ARIMA: $351 \\pm 20$\n",
    "\n",
    "\n",
    "### Al 29 de Marzo \n",
    "\n",
    "\n",
    "#### Predicciones:\n",
    "\n",
    "###### Exponentials, ARIMA (2,2,1)\n",
    "\n",
    "EXP 1 is deprecated for predictions!, exp 2 is kept for comparison and reference\n",
    "\n",
    "$30/3: $  exp2  $372 \\pm 93$                                         ARIMA: $342 \\pm 11$\n",
    "\n",
    "$31/3:$     exp 2 $434 \\pm 113$                                       ARIMA : $374 \\pm 16$\n",
    "\n",
    "$1/4 : $      exp2 $506 \\pm 136$                                        ARIMA: $407 \\pm 20$\n",
    "\n",
    "### Al 30 de Marzo \n",
    "\n",
    "\n",
    "#### Predicciones:\n",
    "\n",
    "###### Exponentials, ARIMA (2,2,1)\n",
    "\n",
    "EXP 1 is deprecated for predictions!, exp 2 is kept for comparison and reference\n",
    "\n",
    "$31/3: $  exp2  $476 \\pm 135$                                         ARIMA: $357 \\pm 11$\n",
    "\n",
    "$1/4:$     exp 2 $544 \\pm 157$                                       ARIMA : $388 \\pm 19$\n",
    "\n",
    "$2/4 : $      exp2 $621 \\pm 187$                                        ARIMA: $420 \\pm 24$\n",
    "\n",
    "### Al 30 de Marzo \n",
    "\n",
    "\n",
    "#### Predicciones:\n",
    "\n",
    "###### Exponentials, ARIMA (2,2,1)\n",
    "\n",
    "EXP 1 is deprecated for predictions!, exp 2 is kept for comparison and reference\n",
    "\n",
    "$31/3: $  exp2  $500 \\pm 149$                                         ARIMA: $371 \\pm 11$\n",
    "\n",
    "$1/4:$     exp 2 $566 \\pm 174$                                       ARIMA : $399 \\pm 19$\n",
    "\n",
    "$2/4 : $      exp2 $641 \\pm 202$                                        ARIMA: $428 \\pm 24$\n",
    "\n",
    "### Al 16 de Marzo \n",
    "\n",
    "\n",
    "#### Predicciones:\n",
    "\n",
    "######  ARIMA (2,2,2)\n",
    "\n",
    "EXP 1 and 2 is deprecated for predictions!\n",
    "\n",
    "ARIMA: $657 \\pm 17$\n",
    "\n",
    "ARIMA : $669 \\pm 28$\n",
    "\n",
    "ARIMA: $683 \\pm 36$\n",
    "\n",
    "\n"
   ]
  },
  {
   "cell_type": "markdown",
   "metadata": {},
   "source": []
  }
 ],
 "metadata": {
  "kernelspec": {
   "display_name": "Python 3",
   "language": "python",
   "name": "python3"
  },
  "language_info": {
   "codemirror_mode": {
    "name": "ipython",
    "version": 3
   },
   "file_extension": ".py",
   "mimetype": "text/x-python",
   "name": "python",
   "nbconvert_exporter": "python",
   "pygments_lexer": "ipython3",
   "version": "3.7.6"
  }
 },
 "nbformat": 4,
 "nbformat_minor": 2
}
